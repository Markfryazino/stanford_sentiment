{
  "nbformat": 4,
  "nbformat_minor": 0,
  "metadata": {
    "kernelspec": {
      "display_name": "Python 3",
      "language": "python",
      "name": "python3"
    },
    "language_info": {
      "codemirror_mode": {
        "name": "ipython",
        "version": 3
      },
      "file_extension": ".py",
      "mimetype": "text/x-python",
      "name": "python",
      "nbconvert_exporter": "python",
      "pygments_lexer": "ipython3",
      "version": "3.7.3"
    },
    "colab": {
      "name": "lstm for colab",
      "provenance": [],
      "collapsed_sections": [],
      "include_colab_link": true
    },
    "accelerator": "GPU"
  },
  "cells": [
    {
      "cell_type": "markdown",
      "metadata": {
        "id": "view-in-github",
        "colab_type": "text"
      },
      "source": [
        "<a href=\"https://colab.research.google.com/github/Markfryazino/stanford_sentiment/blob/master/research/lstm_for_colab.ipynb\" target=\"_parent\"><img src=\"https://colab.research.google.com/assets/colab-badge.svg\" alt=\"Open In Colab\"/></a>"
      ]
    },
    {
      "cell_type": "code",
      "metadata": {
        "id": "SHLQ6SdUclHP",
        "colab_type": "code",
        "colab": {
          "base_uri": "https://localhost:8080/",
          "height": 203
        },
        "outputId": "3b27113e-42e4-48ce-b281-398f52d50ff6"
      },
      "source": [
        "!wget https://ai.stanford.edu/~amaas/data/sentiment/aclImdb_v1.tar.gz\n",
        "!tar -xf aclImdb_v1.tar.gz"
      ],
      "execution_count": 1,
      "outputs": [
        {
          "output_type": "stream",
          "text": [
            "--2020-07-02 14:50:23--  https://ai.stanford.edu/~amaas/data/sentiment/aclImdb_v1.tar.gz\n",
            "Resolving ai.stanford.edu (ai.stanford.edu)... 171.64.68.10\n",
            "Connecting to ai.stanford.edu (ai.stanford.edu)|171.64.68.10|:443... connected.\n",
            "HTTP request sent, awaiting response... 200 OK\n",
            "Length: 84125825 (80M) [application/x-gzip]\n",
            "Saving to: ‘aclImdb_v1.tar.gz’\n",
            "\n",
            "aclImdb_v1.tar.gz   100%[===================>]  80.23M  21.4MB/s    in 6.7s    \n",
            "\n",
            "2020-07-02 14:50:30 (12.0 MB/s) - ‘aclImdb_v1.tar.gz’ saved [84125825/84125825]\n",
            "\n"
          ],
          "name": "stdout"
        }
      ]
    },
    {
      "cell_type": "code",
      "metadata": {
        "id": "s5-Ov6HUcjnW",
        "colab_type": "code",
        "colab": {}
      },
      "source": [
        "import numpy as np\n",
        "import pandas as pd\n",
        "\n",
        "PATH = './'\n",
        "\n",
        "import os\n",
        "train_pos_names = os.listdir(PATH + 'aclImdb/train/pos')\n",
        "train_neg_names = os.listdir(PATH + 'aclImdb/train/neg')\n",
        "test_pos_names = os.listdir(PATH + 'aclImdb/test/pos')\n",
        "test_neg_names = os.listdir(PATH + 'aclImdb/test/neg')"
      ],
      "execution_count": 2,
      "outputs": []
    },
    {
      "cell_type": "code",
      "metadata": {
        "id": "iTo-0er8cjng",
        "colab_type": "code",
        "colab": {}
      },
      "source": [
        "y_train = [int(s.split('_')[1].split('.')[0]) for s in train_pos_names] + \\\n",
        "          [int(s.split('_')[1].split('.')[0]) for s in train_neg_names]\n",
        "    \n",
        "y_test = [int(s.split('_')[1].split('.')[0]) for s in test_pos_names] + \\\n",
        "          [int(s.split('_')[1].split('.')[0]) for s in test_neg_names]"
      ],
      "execution_count": 3,
      "outputs": []
    },
    {
      "cell_type": "code",
      "metadata": {
        "id": "tpAOubgzcjnl",
        "colab_type": "code",
        "colab": {}
      },
      "source": [
        "train = []\n",
        "test = []\n",
        "\n",
        "for name in train_pos_names:\n",
        "    with open(PATH + 'aclImdb/train/pos/' + name) as f:\n",
        "        train.append(f.read())\n",
        "        \n",
        "for name in train_neg_names:\n",
        "    with open(PATH + 'aclImdb/train/neg/' + name) as f:\n",
        "        train.append(f.read())\n",
        "        \n",
        "for name in test_pos_names:\n",
        "    with open(PATH + 'aclImdb/test/pos/' + name) as f:\n",
        "        test.append(f.read())\n",
        "        \n",
        "for name in test_neg_names:\n",
        "    with open(PATH + 'aclImdb/test/neg/' + name) as f:\n",
        "        test.append(f.read())"
      ],
      "execution_count": 4,
      "outputs": []
    },
    {
      "cell_type": "code",
      "metadata": {
        "id": "e0-YCozkcjnq",
        "colab_type": "code",
        "colab": {}
      },
      "source": [
        "from sklearn.model_selection import train_test_split\n",
        "\n",
        "train, val, y_train, y_val = train_test_split(train, y_train, shuffle=True, test_size=0.2)"
      ],
      "execution_count": 5,
      "outputs": []
    },
    {
      "cell_type": "code",
      "metadata": {
        "id": "dSege5go-wBJ",
        "colab_type": "code",
        "colab": {
          "base_uri": "https://localhost:8080/",
          "height": 34
        },
        "outputId": "c4c957f6-a776-4cd6-b872-076006afb888"
      },
      "source": [
        "text = 'a b c c c d d a'\n",
        "from collections import Counter\n",
        "c = dict(Counter(text.split()))\n",
        "c = {key for key, val in c.items() if val >= 3}\n",
        "c"
      ],
      "execution_count": 6,
      "outputs": [
        {
          "output_type": "execute_result",
          "data": {
            "text/plain": [
              "{'c'}"
            ]
          },
          "metadata": {
            "tags": []
          },
          "execution_count": 6
        }
      ]
    },
    {
      "cell_type": "code",
      "metadata": {
        "id": "9lzJ9Knlcjnv",
        "colab_type": "code",
        "colab": {}
      },
      "source": [
        "import re\n",
        "from tensorflow.keras.preprocessing.sequence import pad_sequences\n",
        "from collections import Counter\n",
        "\n",
        "class Tokenizer:\n",
        "    def __init__(self, data, maxlen=1024, mincount=3):\n",
        "        self.maxlen = maxlen\n",
        "        self.mincount = mincount\n",
        "        text = ' '.join(data).lower()\n",
        "        text = re.sub(r'[^\\w\\s]','',text)\n",
        "        words = dict(Counter((text.split())))\n",
        "        words = {key for key, val in words.items() if val >= mincount}\n",
        "        self.num_tokens = len(words) + 4\n",
        "        self.w2i = {'<unk>': 0, '<BOS>': 1, '<EOS>': 2, '<pad>': 3}\n",
        "        self.i2w = ['<unk', '<BOS>', '<EOS>', '<pad>']\n",
        "        for w in words:\n",
        "            self.w2i[w] = len(self.i2w)\n",
        "            self.i2w.append(w)\n",
        "    \n",
        "    def tokenize(self, data):\n",
        "        output = []\n",
        "        for sent in data:\n",
        "            text = re.sub(r'[^\\w\\s]','',sent.lower())\n",
        "            output.append([1])\n",
        "            for w in text.split():\n",
        "                if w in self.w2i:\n",
        "                    output[-1].append(self.w2i[w])\n",
        "                else:\n",
        "                    output[-1].append(0)\n",
        "            output[-1].append(2)\n",
        "        return pad_sequences(output, maxlen=self.maxlen, value=3)"
      ],
      "execution_count": 7,
      "outputs": []
    },
    {
      "cell_type": "code",
      "metadata": {
        "id": "hu8hx5eTcjnz",
        "colab_type": "code",
        "colab": {}
      },
      "source": [
        "tok = Tokenizer(train, maxlen=512, mincount=3)"
      ],
      "execution_count": 8,
      "outputs": []
    },
    {
      "cell_type": "code",
      "metadata": {
        "id": "S-eqGcIOcjn2",
        "colab_type": "code",
        "colab": {}
      },
      "source": [
        "train_tok = tok.tokenize(train)\n",
        "val_tok = tok.tokenize(val)\n",
        "test_tok = tok.tokenize(test)"
      ],
      "execution_count": 9,
      "outputs": []
    },
    {
      "cell_type": "code",
      "metadata": {
        "id": "cz4A08Lecjn8",
        "colab_type": "code",
        "colab": {}
      },
      "source": [
        "import torch\n",
        "from torch import nn\n",
        "\n",
        "class SimpleModel(nn.Module):\n",
        "    def __init__(self, num_tokens, emb_size=16, hid_size=64):\n",
        "        super(self.__class__, self).__init__()\n",
        "        self.emb = nn.Embedding(num_tokens, emb_size)\n",
        "        self.dropout = nn.Dropout(p=0.3)\n",
        "        self.lstm = nn.LSTM(emb_size, hid_size, batch_first=True, bidirectional=True)\n",
        "        self.fc = nn.Linear(2 * hid_size, 1)\n",
        "        \n",
        "    def forward(self, x):\n",
        "        x = x.type(torch.LongTensor).to(device)\n",
        "        emb = self.dropout(self.emb(x))\n",
        "        h, _ = self.lstm(emb)\n",
        "        estimate = self.fc(h[:, -1, :])\n",
        "        return torch.flatten(estimate)"
      ],
      "execution_count": 10,
      "outputs": []
    },
    {
      "cell_type": "code",
      "metadata": {
        "id": "6-ErWUHCcjn_",
        "colab_type": "code",
        "colab": {}
      },
      "source": [
        "from torch.utils.data import Dataset, DataLoader\n",
        "\n",
        "class TextDataset(Dataset):\n",
        "    def __init__(self, data, y):\n",
        "        self.data = data\n",
        "        self.y = y\n",
        "    def __len__(self):\n",
        "        return len(self.data)\n",
        "    def __getitem__(self, idx):\n",
        "        return self.data[idx], self.y[idx]"
      ],
      "execution_count": 11,
      "outputs": []
    },
    {
      "cell_type": "code",
      "metadata": {
        "id": "o_dwwU8EcjoC",
        "colab_type": "code",
        "colab": {}
      },
      "source": [
        "train_dset = TextDataset(train_tok, y_train)\n",
        "val_dset = TextDataset(val_tok, y_val)\n",
        "test_dset = TextDataset(test_tok, y_test)"
      ],
      "execution_count": 12,
      "outputs": []
    },
    {
      "cell_type": "code",
      "metadata": {
        "id": "hmsHXM1vcjoF",
        "colab_type": "code",
        "colab": {}
      },
      "source": [
        "train_loader = DataLoader(train_dset, batch_size=16)\n",
        "val_loader = DataLoader(val_dset, batch_size=16)\n",
        "test_loader = DataLoader(test_dset, batch_size=16)\n",
        "\n",
        "device = torch.device(\"cuda:0\")"
      ],
      "execution_count": 13,
      "outputs": []
    },
    {
      "cell_type": "code",
      "metadata": {
        "id": "VEmA4ddpcjoJ",
        "colab_type": "code",
        "colab": {}
      },
      "source": [
        "def compute_quality(model, loader, classification=False):\n",
        "    model.eval()\n",
        "    \n",
        "    loss_acum = 0.\n",
        "    correct = total = 0\n",
        "    \n",
        "    for i_step, (x, y) in enumerate(loader):\n",
        "        x_gpu = x.to(device)\n",
        "        y_gpu = y.to(device)\n",
        "\n",
        "        if classification:\n",
        "            y_gpu = (y > 5).type(torch.FloatTensor).to(device)\n",
        "\n",
        "        pred = model(x_gpu)\n",
        "        loss_val = loss(pred, y_gpu)\n",
        "        loss_acum += loss_val\n",
        "        \n",
        "        pred_rounded = torch.round(pred)\n",
        "        correct += torch.sum(pred_rounded == y_gpu)\n",
        "        total += y.shape[0]\n",
        "        del x_gpu, y_gpu\n",
        "        \n",
        "    return loss_acum / (i_step + 1), float(correct) / total\n",
        "\n",
        "def train_model(model, train_loader, val_loader, epochs, optimizer, loss, plato_scheduler=None, \n",
        "                scheduler=None, classification=False):\n",
        "    loss_history = []\n",
        "    acc_history = []\n",
        "    \n",
        "    for epoch in range(epochs):\n",
        "        model.train()\n",
        "        \n",
        "        loss_acum = 0.\n",
        "        correct = total = 0\n",
        "        \n",
        "        for i_step, (x, y) in enumerate(train_loader):\n",
        "            x_gpu = x.to(device)\n",
        "            y_gpu = y.to(device)\n",
        "\n",
        "            if classification:\n",
        "                y_gpu = (y > 5).type(torch.FloatTensor).to(device)\n",
        "\n",
        "            pred = model(x_gpu)\n",
        "            loss_val = loss(pred, y_gpu)\n",
        "            loss_acum += loss_val\n",
        "            \n",
        "            optimizer.zero_grad()\n",
        "            loss_val.backward()\n",
        "            optimizer.step()\n",
        "            \n",
        "            pred_rounded = torch.round(pred)\n",
        "            correct += torch.sum(pred_rounded == y_gpu)\n",
        "            total += y.shape[0]\n",
        "            del x_gpu, y_gpu\n",
        "            \n",
        "        train_acc = float(correct) / total\n",
        "        train_loss = loss_acum / (i_step + 1)\n",
        "        \n",
        "        val_loss, val_acc = compute_quality(model, val_loader, classification=classification)\n",
        "        loss_history.append(val_loss)\n",
        "        acc_history.append(val_acc)\n",
        "\n",
        "        if plato_scheduler != None:\n",
        "            scheduler.step(val_acc)\n",
        "        if scheduler != None:\n",
        "            scheduler.step()\n",
        "        \n",
        "        print(f'Epoch {epoch}\\nTrain loss: {train_loss}\\nTrain accuracy: {train_acc}')\n",
        "        print(f'Val loss: {val_loss}\\nVal accuracy: {val_acc}')\n",
        "    return loss_history, acc_history"
      ],
      "execution_count": 14,
      "outputs": []
    },
    {
      "cell_type": "code",
      "metadata": {
        "id": "1dtrl2Yc58wa",
        "colab_type": "code",
        "colab": {
          "base_uri": "https://localhost:8080/",
          "height": 917
        },
        "outputId": "bf603002-a1a6-4f19-aeb4-1b5e24396ad7"
      },
      "source": [
        "model = nn.Sequential(\n",
        "    SimpleModel(tok.num_tokens, 16, 32),\n",
        "    nn.Sigmoid()\n",
        ")\n",
        "\n",
        "model.to(device)\n",
        "loss = torch.nn.BCELoss()\n",
        "optimizer = torch.optim.Adam(model.parameters(), lr=1e-3)\n",
        "scheduler1 = torch.optim.lr_scheduler.ReduceLROnPlateau(optimizer, factor=0.1, mode='max')\n",
        "scheduler2 = torch.optim.lr_scheduler.StepLR(optimizer, 2, 0.1)\n",
        "\n",
        "loss_hist, acc_hist = train_model(model, train_loader, val_loader, 10, optimizer, loss, \n",
        "                                   classification=True, plato_scheduler=scheduler1, scheduler=scheduler2)"
      ],
      "execution_count": 19,
      "outputs": [
        {
          "output_type": "stream",
          "text": [
            "/usr/local/lib/python3.6/dist-packages/torch/optim/lr_scheduler.py:143: UserWarning: The epoch parameter in `scheduler.step()` was not necessary and is being deprecated where possible. Please use `scheduler.step()` to step the scheduler. During the deprecation, if epoch is different from None, the closed form is used instead of the new chainable form, where available. Please open an issue if you are unable to replicate your use case: https://github.com/pytorch/pytorch/issues/new/choose.\n",
            "  warnings.warn(EPOCH_DEPRECATION_WARNING, UserWarning)\n"
          ],
          "name": "stderr"
        },
        {
          "output_type": "stream",
          "text": [
            "Epoch 0\n",
            "Train loss: 0.6705866456031799\n",
            "Train accuracy: 0.5716\n",
            "Val loss: 0.6306892037391663\n",
            "Val accuracy: 0.6412\n",
            "Epoch 1\n",
            "Train loss: 0.5943325161933899\n",
            "Train accuracy: 0.68505\n",
            "Val loss: 0.5425017476081848\n",
            "Val accuracy: 0.7288\n",
            "Epoch 2\n",
            "Train loss: 0.5280731916427612\n",
            "Train accuracy: 0.74805\n",
            "Val loss: 0.5004121661186218\n",
            "Val accuracy: 0.7672\n",
            "Epoch 3\n",
            "Train loss: 0.47268837690353394\n",
            "Train accuracy: 0.7863\n",
            "Val loss: 0.43972328305244446\n",
            "Val accuracy: 0.8048\n",
            "Epoch 4\n",
            "Train loss: 0.423369824886322\n",
            "Train accuracy: 0.81535\n",
            "Val loss: 0.41856592893600464\n",
            "Val accuracy: 0.8098\n",
            "Epoch 5\n",
            "Train loss: 0.37628108263015747\n",
            "Train accuracy: 0.8396\n",
            "Val loss: 0.38602039217948914\n",
            "Val accuracy: 0.8366\n",
            "Epoch 6\n",
            "Train loss: 0.37803909182548523\n",
            "Train accuracy: 0.8385\n",
            "Val loss: 0.4224628210067749\n",
            "Val accuracy: 0.8228\n",
            "Epoch 7\n",
            "Train loss: 0.33113738894462585\n",
            "Train accuracy: 0.86295\n",
            "Val loss: 0.41826242208480835\n",
            "Val accuracy: 0.8448\n",
            "Epoch 8\n",
            "Train loss: 0.29100584983825684\n",
            "Train accuracy: 0.8794\n",
            "Val loss: 0.3850339651107788\n",
            "Val accuracy: 0.8514\n",
            "Epoch 9\n",
            "Train loss: 0.2653753459453583\n",
            "Train accuracy: 0.89355\n",
            "Val loss: 0.3363730013370514\n",
            "Val accuracy: 0.866\n"
          ],
          "name": "stdout"
        }
      ]
    },
    {
      "cell_type": "code",
      "metadata": {
        "id": "doa7FiVDL79r",
        "colab_type": "code",
        "colab": {
          "base_uri": "https://localhost:8080/",
          "height": 281
        },
        "outputId": "3c9f96c2-ed7f-41b1-b80b-2cd402cce0f9"
      },
      "source": [
        "import matplotlib.pyplot as plt\n",
        "plt.plot(range(10), val_hist)\n",
        "plt.plot(range(10), train_hist)"
      ],
      "execution_count": 26,
      "outputs": [
        {
          "output_type": "execute_result",
          "data": {
            "text/plain": [
              "[<matplotlib.lines.Line2D at 0x7f2889c2ed30>]"
            ]
          },
          "metadata": {
            "tags": []
          },
          "execution_count": 26
        },
        {
          "output_type": "display_data",
          "data": {
            "image/png": "[encoded data removed]",
            "text/plain": [
              "<Figure size 432x288 with 1 Axes>"
            ]
          },
          "metadata": {
            "tags": [],
            "needs_background": "light"
          }
        }
      ]
    },
    {
      "cell_type": "code",
      "metadata": {
        "id": "2dMkrCb_JDgE",
        "colab_type": "code",
        "colab": {
          "base_uri": "https://localhost:8080/",
          "height": 34
        },
        "outputId": "7324a091-9f06-4db0-ba57-f66981ef10d3"
      },
      "source": [
        "import joblib\n",
        "\n",
        "torch.save(model.state_dict(), PATH + 'classification.pt')\n",
        "joblib.dump(tok, PATH + 'tokenizer.joblib')"
      ],
      "execution_count": 24,
      "outputs": [
        {
          "output_type": "execute_result",
          "data": {
            "text/plain": [
              "['./tokenizer.joblib']"
            ]
          },
          "metadata": {
            "tags": []
          },
          "execution_count": 24
        }
      ]
    },
    {
      "cell_type": "code",
      "metadata": {
        "id": "01RYzyRbcjoM",
        "colab_type": "code",
        "colab": {
          "base_uri": "https://localhost:8080/",
          "height": 951
        },
        "outputId": "0b5f9223-916f-4738-fe18-d81de482d97d"
      },
      "source": [
        "reg_model = model[0].to(device)\n",
        "loss = torch.nn.MSELoss()\n",
        "optimizer = torch.optim.Adam(model.parameters(), lr=1e-3)\n",
        "scheduler = torch.optim.lr_scheduler.ReduceLROnPlateau(optimizer, factor=0.1, mode='max')\n",
        "\n",
        "train_hist, val_hist = train_model(reg_model, train_loader, val_loader, 10, optimizer, loss)"
      ],
      "execution_count": 18,
      "outputs": [
        {
          "output_type": "stream",
          "text": [
            "Epoch 0\n",
            "Train loss: 12.872408866882324\n",
            "Train accuracy: 0.0078\n",
            "Val loss: 11.108055114746094\n",
            "Val accuracy: 0.0294\n",
            "Epoch 1\n",
            "Train loss: 9.667640686035156\n",
            "Train accuracy: 0.08345\n",
            "Val loss: 8.611762046813965\n",
            "Val accuracy: 0.122\n",
            "Epoch 2\n",
            "Train loss: 7.752617835998535\n",
            "Train accuracy: 0.1314\n",
            "Val loss: 7.709372520446777\n",
            "Val accuracy: 0.1452\n",
            "Epoch 3\n",
            "Train loss: 6.0280442237854\n",
            "Train accuracy: 0.1564\n",
            "Val loss: 6.495204925537109\n",
            "Val accuracy: 0.1532\n",
            "Epoch 4\n",
            "Train loss: 4.992058277130127\n",
            "Train accuracy: 0.1738\n",
            "Val loss: 6.6857590675354\n",
            "Val accuracy: 0.1644\n",
            "Epoch 5\n",
            "Train loss: 4.746802806854248\n",
            "Train accuracy: 0.17555\n",
            "Val loss: 6.718478202819824\n",
            "Val accuracy: 0.1514\n",
            "Epoch 6\n",
            "Train loss: 3.9804162979125977\n",
            "Train accuracy: 0.19385\n",
            "Val loss: 6.276157379150391\n",
            "Val accuracy: 0.2086\n"
          ],
          "name": "stdout"
        },
        {
          "output_type": "error",
          "ename": "RuntimeError",
          "evalue": "ignored",
          "traceback": [
            "\u001b[0;31m---------------------------------------------------------------------------\u001b[0m",
            "\u001b[0;31mRuntimeError\u001b[0m                              Traceback (most recent call last)",
            "\u001b[0;32m<ipython-input-18-373e4cff5e22>\u001b[0m in \u001b[0;36m<module>\u001b[0;34m()\u001b[0m\n\u001b[1;32m      5\u001b[0m \u001b[0mscheduler\u001b[0m \u001b[0;34m=\u001b[0m \u001b[0mtorch\u001b[0m\u001b[0;34m.\u001b[0m\u001b[0moptim\u001b[0m\u001b[0;34m.\u001b[0m\u001b[0mlr_scheduler\u001b[0m\u001b[0;34m.\u001b[0m\u001b[0mReduceLROnPlateau\u001b[0m\u001b[0;34m(\u001b[0m\u001b[0moptimizer\u001b[0m\u001b[0;34m,\u001b[0m \u001b[0mfactor\u001b[0m\u001b[0;34m=\u001b[0m\u001b[0;36m0.1\u001b[0m\u001b[0;34m,\u001b[0m \u001b[0mmode\u001b[0m\u001b[0;34m=\u001b[0m\u001b[0;34m'max'\u001b[0m\u001b[0;34m)\u001b[0m\u001b[0;34m\u001b[0m\u001b[0;34m\u001b[0m\u001b[0m\n\u001b[1;32m      6\u001b[0m \u001b[0;34m\u001b[0m\u001b[0m\n\u001b[0;32m----> 7\u001b[0;31m \u001b[0mtrain_hist\u001b[0m\u001b[0;34m,\u001b[0m \u001b[0mval_hist\u001b[0m \u001b[0;34m=\u001b[0m \u001b[0mtrain_model\u001b[0m\u001b[0;34m(\u001b[0m\u001b[0mmodel\u001b[0m\u001b[0;34m,\u001b[0m \u001b[0mtrain_loader\u001b[0m\u001b[0;34m,\u001b[0m \u001b[0mval_loader\u001b[0m\u001b[0;34m,\u001b[0m \u001b[0;36m10\u001b[0m\u001b[0;34m,\u001b[0m \u001b[0moptimizer\u001b[0m\u001b[0;34m,\u001b[0m \u001b[0mloss\u001b[0m\u001b[0;34m)\u001b[0m\u001b[0;34m\u001b[0m\u001b[0;34m\u001b[0m\u001b[0m\n\u001b[0m",
            "\u001b[0;32m<ipython-input-14-0f780bde98e2>\u001b[0m in \u001b[0;36mtrain_model\u001b[0;34m(model, train_loader, val_loader, epochs, optimizer, loss, scheduler)\u001b[0m\n\u001b[1;32m     46\u001b[0m         \u001b[0mtrain_loss\u001b[0m \u001b[0;34m=\u001b[0m \u001b[0mloss_acum\u001b[0m \u001b[0;34m/\u001b[0m \u001b[0;34m(\u001b[0m\u001b[0mi_step\u001b[0m \u001b[0;34m+\u001b[0m \u001b[0;36m1\u001b[0m\u001b[0;34m)\u001b[0m\u001b[0;34m\u001b[0m\u001b[0;34m\u001b[0m\u001b[0m\n\u001b[1;32m     47\u001b[0m \u001b[0;34m\u001b[0m\u001b[0m\n\u001b[0;32m---> 48\u001b[0;31m         \u001b[0mval_loss\u001b[0m\u001b[0;34m,\u001b[0m \u001b[0mval_acc\u001b[0m \u001b[0;34m=\u001b[0m \u001b[0mcompute_quality\u001b[0m\u001b[0;34m(\u001b[0m\u001b[0mmodel\u001b[0m\u001b[0;34m,\u001b[0m \u001b[0mval_loader\u001b[0m\u001b[0;34m)\u001b[0m\u001b[0;34m\u001b[0m\u001b[0;34m\u001b[0m\u001b[0m\n\u001b[0m\u001b[1;32m     49\u001b[0m         \u001b[0mloss_history\u001b[0m\u001b[0;34m.\u001b[0m\u001b[0mappend\u001b[0m\u001b[0;34m(\u001b[0m\u001b[0mval_loss\u001b[0m\u001b[0;34m)\u001b[0m\u001b[0;34m\u001b[0m\u001b[0;34m\u001b[0m\u001b[0m\n\u001b[1;32m     50\u001b[0m         \u001b[0macc_history\u001b[0m\u001b[0;34m.\u001b[0m\u001b[0mappend\u001b[0m\u001b[0;34m(\u001b[0m\u001b[0mval_acc\u001b[0m\u001b[0;34m)\u001b[0m\u001b[0;34m\u001b[0m\u001b[0;34m\u001b[0m\u001b[0m\n",
            "\u001b[0;32m<ipython-input-14-0f780bde98e2>\u001b[0m in \u001b[0;36mcompute_quality\u001b[0;34m(model, loader)\u001b[0m\n\u001b[1;32m      8\u001b[0m         \u001b[0mx_gpu\u001b[0m \u001b[0;34m=\u001b[0m \u001b[0mx\u001b[0m\u001b[0;34m.\u001b[0m\u001b[0mto\u001b[0m\u001b[0;34m(\u001b[0m\u001b[0mdevice\u001b[0m\u001b[0;34m)\u001b[0m\u001b[0;34m\u001b[0m\u001b[0;34m\u001b[0m\u001b[0m\n\u001b[1;32m      9\u001b[0m         \u001b[0my_gpu\u001b[0m \u001b[0;34m=\u001b[0m \u001b[0my\u001b[0m\u001b[0;34m.\u001b[0m\u001b[0mto\u001b[0m\u001b[0;34m(\u001b[0m\u001b[0mdevice\u001b[0m\u001b[0;34m)\u001b[0m\u001b[0;34m\u001b[0m\u001b[0;34m\u001b[0m\u001b[0m\n\u001b[0;32m---> 10\u001b[0;31m         \u001b[0mpred\u001b[0m \u001b[0;34m=\u001b[0m \u001b[0mmodel\u001b[0m\u001b[0;34m(\u001b[0m\u001b[0mx_gpu\u001b[0m\u001b[0;34m)\u001b[0m\u001b[0;34m\u001b[0m\u001b[0;34m\u001b[0m\u001b[0m\n\u001b[0m\u001b[1;32m     11\u001b[0m         \u001b[0mloss_val\u001b[0m \u001b[0;34m=\u001b[0m \u001b[0mloss\u001b[0m\u001b[0;34m(\u001b[0m\u001b[0mpred\u001b[0m\u001b[0;34m,\u001b[0m \u001b[0my_gpu\u001b[0m\u001b[0;34m)\u001b[0m\u001b[0;34m\u001b[0m\u001b[0;34m\u001b[0m\u001b[0m\n\u001b[1;32m     12\u001b[0m         \u001b[0mloss_acum\u001b[0m \u001b[0;34m+=\u001b[0m \u001b[0mloss_val\u001b[0m\u001b[0;34m\u001b[0m\u001b[0;34m\u001b[0m\u001b[0m\n",
            "\u001b[0;32m/usr/local/lib/python3.6/dist-packages/torch/nn/modules/module.py\u001b[0m in \u001b[0;36m__call__\u001b[0;34m(self, *input, **kwargs)\u001b[0m\n\u001b[1;32m    548\u001b[0m             \u001b[0mresult\u001b[0m \u001b[0;34m=\u001b[0m \u001b[0mself\u001b[0m\u001b[0;34m.\u001b[0m\u001b[0m_slow_forward\u001b[0m\u001b[0;34m(\u001b[0m\u001b[0;34m*\u001b[0m\u001b[0minput\u001b[0m\u001b[0;34m,\u001b[0m \u001b[0;34m**\u001b[0m\u001b[0mkwargs\u001b[0m\u001b[0;34m)\u001b[0m\u001b[0;34m\u001b[0m\u001b[0;34m\u001b[0m\u001b[0m\n\u001b[1;32m    549\u001b[0m         \u001b[0;32melse\u001b[0m\u001b[0;34m:\u001b[0m\u001b[0;34m\u001b[0m\u001b[0;34m\u001b[0m\u001b[0m\n\u001b[0;32m--> 550\u001b[0;31m             \u001b[0mresult\u001b[0m \u001b[0;34m=\u001b[0m \u001b[0mself\u001b[0m\u001b[0;34m.\u001b[0m\u001b[0mforward\u001b[0m\u001b[0;34m(\u001b[0m\u001b[0;34m*\u001b[0m\u001b[0minput\u001b[0m\u001b[0;34m,\u001b[0m \u001b[0;34m**\u001b[0m\u001b[0mkwargs\u001b[0m\u001b[0;34m)\u001b[0m\u001b[0;34m\u001b[0m\u001b[0;34m\u001b[0m\u001b[0m\n\u001b[0m\u001b[1;32m    551\u001b[0m         \u001b[0;32mfor\u001b[0m \u001b[0mhook\u001b[0m \u001b[0;32min\u001b[0m \u001b[0mself\u001b[0m\u001b[0;34m.\u001b[0m\u001b[0m_forward_hooks\u001b[0m\u001b[0;34m.\u001b[0m\u001b[0mvalues\u001b[0m\u001b[0;34m(\u001b[0m\u001b[0;34m)\u001b[0m\u001b[0;34m:\u001b[0m\u001b[0;34m\u001b[0m\u001b[0;34m\u001b[0m\u001b[0m\n\u001b[1;32m    552\u001b[0m             \u001b[0mhook_result\u001b[0m \u001b[0;34m=\u001b[0m \u001b[0mhook\u001b[0m\u001b[0;34m(\u001b[0m\u001b[0mself\u001b[0m\u001b[0;34m,\u001b[0m \u001b[0minput\u001b[0m\u001b[0;34m,\u001b[0m \u001b[0mresult\u001b[0m\u001b[0;34m)\u001b[0m\u001b[0;34m\u001b[0m\u001b[0;34m\u001b[0m\u001b[0m\n",
            "\u001b[0;32m<ipython-input-17-e20b5b61f0a0>\u001b[0m in \u001b[0;36mforward\u001b[0;34m(self, x)\u001b[0m\n\u001b[1;32m     13\u001b[0m         \u001b[0mx\u001b[0m \u001b[0;34m=\u001b[0m \u001b[0mx\u001b[0m\u001b[0;34m.\u001b[0m\u001b[0mtype\u001b[0m\u001b[0;34m(\u001b[0m\u001b[0mtorch\u001b[0m\u001b[0;34m.\u001b[0m\u001b[0mLongTensor\u001b[0m\u001b[0;34m)\u001b[0m\u001b[0;34m.\u001b[0m\u001b[0mto\u001b[0m\u001b[0;34m(\u001b[0m\u001b[0mdevice\u001b[0m\u001b[0;34m)\u001b[0m\u001b[0;34m\u001b[0m\u001b[0;34m\u001b[0m\u001b[0m\n\u001b[1;32m     14\u001b[0m         \u001b[0memb\u001b[0m \u001b[0;34m=\u001b[0m \u001b[0mself\u001b[0m\u001b[0;34m.\u001b[0m\u001b[0memb\u001b[0m\u001b[0;34m(\u001b[0m\u001b[0mx\u001b[0m\u001b[0;34m)\u001b[0m\u001b[0;34m\u001b[0m\u001b[0;34m\u001b[0m\u001b[0m\n\u001b[0;32m---> 15\u001b[0;31m         \u001b[0mh\u001b[0m\u001b[0;34m,\u001b[0m \u001b[0m_\u001b[0m \u001b[0;34m=\u001b[0m \u001b[0mself\u001b[0m\u001b[0;34m.\u001b[0m\u001b[0mlstm\u001b[0m\u001b[0;34m(\u001b[0m\u001b[0memb\u001b[0m\u001b[0;34m)\u001b[0m\u001b[0;34m\u001b[0m\u001b[0;34m\u001b[0m\u001b[0m\n\u001b[0m\u001b[1;32m     16\u001b[0m         \u001b[0;31m#h = self.batchnorm(h[:, -1, :])\u001b[0m\u001b[0;34m\u001b[0m\u001b[0;34m\u001b[0m\u001b[0;34m\u001b[0m\u001b[0m\n\u001b[1;32m     17\u001b[0m         \u001b[0mestimate\u001b[0m \u001b[0;34m=\u001b[0m \u001b[0mself\u001b[0m\u001b[0;34m.\u001b[0m\u001b[0mfc\u001b[0m\u001b[0;34m(\u001b[0m\u001b[0mh\u001b[0m\u001b[0;34m[\u001b[0m\u001b[0;34m:\u001b[0m\u001b[0;34m,\u001b[0m \u001b[0;34m-\u001b[0m\u001b[0;36m1\u001b[0m\u001b[0;34m,\u001b[0m \u001b[0;34m:\u001b[0m\u001b[0;34m]\u001b[0m\u001b[0;34m)\u001b[0m\u001b[0;34m\u001b[0m\u001b[0;34m\u001b[0m\u001b[0m\n",
            "\u001b[0;32m/usr/local/lib/python3.6/dist-packages/torch/nn/modules/module.py\u001b[0m in \u001b[0;36m__call__\u001b[0;34m(self, *input, **kwargs)\u001b[0m\n\u001b[1;32m    548\u001b[0m             \u001b[0mresult\u001b[0m \u001b[0;34m=\u001b[0m \u001b[0mself\u001b[0m\u001b[0;34m.\u001b[0m\u001b[0m_slow_forward\u001b[0m\u001b[0;34m(\u001b[0m\u001b[0;34m*\u001b[0m\u001b[0minput\u001b[0m\u001b[0;34m,\u001b[0m \u001b[0;34m**\u001b[0m\u001b[0mkwargs\u001b[0m\u001b[0;34m)\u001b[0m\u001b[0;34m\u001b[0m\u001b[0;34m\u001b[0m\u001b[0m\n\u001b[1;32m    549\u001b[0m         \u001b[0;32melse\u001b[0m\u001b[0;34m:\u001b[0m\u001b[0;34m\u001b[0m\u001b[0;34m\u001b[0m\u001b[0m\n\u001b[0;32m--> 550\u001b[0;31m             \u001b[0mresult\u001b[0m \u001b[0;34m=\u001b[0m \u001b[0mself\u001b[0m\u001b[0;34m.\u001b[0m\u001b[0mforward\u001b[0m\u001b[0;34m(\u001b[0m\u001b[0;34m*\u001b[0m\u001b[0minput\u001b[0m\u001b[0;34m,\u001b[0m \u001b[0;34m**\u001b[0m\u001b[0mkwargs\u001b[0m\u001b[0;34m)\u001b[0m\u001b[0;34m\u001b[0m\u001b[0;34m\u001b[0m\u001b[0m\n\u001b[0m\u001b[1;32m    551\u001b[0m         \u001b[0;32mfor\u001b[0m \u001b[0mhook\u001b[0m \u001b[0;32min\u001b[0m \u001b[0mself\u001b[0m\u001b[0;34m.\u001b[0m\u001b[0m_forward_hooks\u001b[0m\u001b[0;34m.\u001b[0m\u001b[0mvalues\u001b[0m\u001b[0;34m(\u001b[0m\u001b[0;34m)\u001b[0m\u001b[0;34m:\u001b[0m\u001b[0;34m\u001b[0m\u001b[0;34m\u001b[0m\u001b[0m\n\u001b[1;32m    552\u001b[0m             \u001b[0mhook_result\u001b[0m \u001b[0;34m=\u001b[0m \u001b[0mhook\u001b[0m\u001b[0;34m(\u001b[0m\u001b[0mself\u001b[0m\u001b[0;34m,\u001b[0m \u001b[0minput\u001b[0m\u001b[0;34m,\u001b[0m \u001b[0mresult\u001b[0m\u001b[0;34m)\u001b[0m\u001b[0;34m\u001b[0m\u001b[0;34m\u001b[0m\u001b[0m\n",
            "\u001b[0;32m/usr/local/lib/python3.6/dist-packages/torch/nn/modules/rnn.py\u001b[0m in \u001b[0;36mforward\u001b[0;34m(self, input, hx)\u001b[0m\n\u001b[1;32m    568\u001b[0m         \u001b[0;32mif\u001b[0m \u001b[0mbatch_sizes\u001b[0m \u001b[0;32mis\u001b[0m \u001b[0;32mNone\u001b[0m\u001b[0;34m:\u001b[0m\u001b[0;34m\u001b[0m\u001b[0;34m\u001b[0m\u001b[0m\n\u001b[1;32m    569\u001b[0m             result = _VF.lstm(input, hx, self._flat_weights, self.bias, self.num_layers,\n\u001b[0;32m--> 570\u001b[0;31m                               self.dropout, self.training, self.bidirectional, self.batch_first)\n\u001b[0m\u001b[1;32m    571\u001b[0m         \u001b[0;32melse\u001b[0m\u001b[0;34m:\u001b[0m\u001b[0;34m\u001b[0m\u001b[0;34m\u001b[0m\u001b[0m\n\u001b[1;32m    572\u001b[0m             result = _VF.lstm(input, batch_sizes, hx, self._flat_weights, self.bias,\n",
            "\u001b[0;31mRuntimeError\u001b[0m: CUDA out of memory. Tried to allocate 20.00 MiB (GPU 0; 14.73 GiB total capacity; 13.92 GiB already allocated; 19.88 MiB free; 13.93 GiB reserved in total by PyTorch)"
          ]
        }
      ]
    }
  ]
}