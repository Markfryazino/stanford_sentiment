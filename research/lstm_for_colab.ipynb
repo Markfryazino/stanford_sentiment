{
  "nbformat": 4,
  "nbformat_minor": 0,
  "metadata": {
    "kernelspec": {
      "display_name": "Python 3",
      "language": "python",
      "name": "python3"
    },
    "language_info": {
      "codemirror_mode": {
        "name": "ipython",
        "version": 3
      },
      "file_extension": ".py",
      "mimetype": "text/x-python",
      "name": "python",
      "nbconvert_exporter": "python",
      "pygments_lexer": "ipython3",
      "version": "3.7.3"
    },
    "colab": {
      "name": "lstm for colab",
      "provenance": [],
      "collapsed_sections": [],
      "include_colab_link": true
    },
    "accelerator": "GPU"
  },
  "cells": [
    {
      "cell_type": "markdown",
      "metadata": {
        "id": "view-in-github",
        "colab_type": "text"
      },
      "source": [
        "<a href=\"https://colab.research.google.com/github/Markfryazino/stanford_sentiment/blob/master/research/lstm_for_colab.ipynb\" target=\"_parent\"><img src=\"https://colab.research.google.com/assets/colab-badge.svg\" alt=\"Open In Colab\"/></a>"
      ]
    },
    {
      "cell_type": "code",
      "metadata": {
        "id": "SHLQ6SdUclHP",
        "colab_type": "code",
        "colab": {
          "base_uri": "https://localhost:8080/",
          "height": 203
        },
        "outputId": "79ebe6e4-1e9d-4210-ed85-b20399e83261"
      },
      "source": [
        "!wget https://ai.stanford.edu/~amaas/data/sentiment/aclImdb_v1.tar.gz\n",
        "!tar -xf aclImdb_v1.tar.gz"
      ],
      "execution_count": null,
      "outputs": [
        {
          "output_type": "stream",
          "text": [
            "--2020-07-03 10:09:43--  https://ai.stanford.edu/~amaas/data/sentiment/aclImdb_v1.tar.gz\n",
            "Resolving ai.stanford.edu (ai.stanford.edu)... 171.64.68.10\n",
            "Connecting to ai.stanford.edu (ai.stanford.edu)|171.64.68.10|:443... connected.\n",
            "HTTP request sent, awaiting response... 200 OK\n",
            "Length: 84125825 (80M) [application/x-gzip]\n",
            "Saving to: ‘aclImdb_v1.tar.gz’\n",
            "\n",
            "aclImdb_v1.tar.gz   100%[===================>]  80.23M  41.5MB/s    in 1.9s    \n",
            "\n",
            "2020-07-03 10:09:45 (41.5 MB/s) - ‘aclImdb_v1.tar.gz’ saved [84125825/84125825]\n",
            "\n"
          ],
          "name": "stdout"
        }
      ]
    },
    {
      "cell_type": "code",
      "metadata": {
        "id": "s5-Ov6HUcjnW",
        "colab_type": "code",
        "colab": {}
      },
      "source": [
        "import numpy as np\n",
        "import pandas as pd\n",
        "\n",
        "PATH = './'\n",
        "\n",
        "import os\n",
        "train_pos_names = os.listdir(PATH + 'aclImdb/train/pos')\n",
        "train_neg_names = os.listdir(PATH + 'aclImdb/train/neg')\n",
        "test_pos_names = os.listdir(PATH + 'aclImdb/test/pos')\n",
        "test_neg_names = os.listdir(PATH + 'aclImdb/test/neg')"
      ],
      "execution_count": null,
      "outputs": []
    },
    {
      "cell_type": "code",
      "metadata": {
        "id": "iTo-0er8cjng",
        "colab_type": "code",
        "colab": {}
      },
      "source": [
        "y_train = [int(s.split('_')[1].split('.')[0]) for s in train_pos_names] + \\\n",
        "          [int(s.split('_')[1].split('.')[0]) for s in train_neg_names]\n",
        "    \n",
        "y_test = [int(s.split('_')[1].split('.')[0]) for s in test_pos_names] + \\\n",
        "          [int(s.split('_')[1].split('.')[0]) for s in test_neg_names]"
      ],
      "execution_count": null,
      "outputs": []
    },
    {
      "cell_type": "code",
      "metadata": {
        "id": "tpAOubgzcjnl",
        "colab_type": "code",
        "colab": {}
      },
      "source": [
        "train = []\n",
        "test = []\n",
        "\n",
        "for name in train_pos_names:\n",
        "    with open(PATH + 'aclImdb/train/pos/' + name) as f:\n",
        "        train.append(f.read())\n",
        "        \n",
        "for name in train_neg_names:\n",
        "    with open(PATH + 'aclImdb/train/neg/' + name) as f:\n",
        "        train.append(f.read())\n",
        "        \n",
        "for name in test_pos_names:\n",
        "    with open(PATH + 'aclImdb/test/pos/' + name) as f:\n",
        "        test.append(f.read())\n",
        "        \n",
        "for name in test_neg_names:\n",
        "    with open(PATH + 'aclImdb/test/neg/' + name) as f:\n",
        "        test.append(f.read())"
      ],
      "execution_count": null,
      "outputs": []
    },
    {
      "cell_type": "code",
      "metadata": {
        "id": "e0-YCozkcjnq",
        "colab_type": "code",
        "colab": {}
      },
      "source": [
        "from sklearn.model_selection import train_test_split\n",
        "\n",
        "train, val, y_train, y_val = train_test_split(train, y_train, shuffle=True, test_size=0.2)"
      ],
      "execution_count": null,
      "outputs": []
    },
    {
      "cell_type": "code",
      "metadata": {
        "id": "9lzJ9Knlcjnv",
        "colab_type": "code",
        "colab": {}
      },
      "source": [
        "import re\n",
        "import json\n",
        "from tensorflow.keras.preprocessing.sequence import pad_sequences\n",
        "from collections import Counter\n",
        "\n",
        "class Tokenizer:\n",
        "    def __init__(self, data=None, maxlen=1024, mincount=3, params=None):\n",
        "        if params is not None:\n",
        "            self.maxlen = params['maxlen']\n",
        "            self.mincount = params['mincount']\n",
        "            self.w2i = params['w2i']\n",
        "            self.i2w = params['i2w']\n",
        "            self.num_tokens = len(self.w2i)\n",
        "        else:\n",
        "            self.maxlen = maxlen\n",
        "            self.mincount = mincount\n",
        "            text = ' '.join(data).lower()\n",
        "            text = re.sub(r'[^\\w\\s]','',text)\n",
        "            words = dict(Counter((text.split())))\n",
        "            words = {key for key, val in words.items() if val >= mincount}\n",
        "            self.num_tokens = len(words) + 4\n",
        "            self.w2i = {'<unk>': 0, '<BOS>': 1, '<EOS>': 2, '<pad>': 3}\n",
        "            self.i2w = ['<unk', '<BOS>', '<EOS>', '<pad>']\n",
        "            for w in words:\n",
        "                 self.w2i[w] = len(self.i2w)\n",
        "                 self.i2w.append(w)\n",
        "    \n",
        "    def tokenize(self, data):\n",
        "        output = []\n",
        "        for sent in data:\n",
        "            text = re.sub(r'[^\\w\\s]','',sent.lower())\n",
        "            output.append([1])\n",
        "            for w in text.split():\n",
        "                if w in self.w2i:\n",
        "                    output[-1].append(self.w2i[w])\n",
        "                else:\n",
        "                    output[-1].append(0)\n",
        "            output[-1].append(2)\n",
        "        return pad_sequences(output, maxlen=self.maxlen, value=3)\n",
        "    \n",
        "    def save(self, path):\n",
        "        params = {'w2i': self.w2i, 'i2w': self.i2w, 'maxlen': self.maxlen, 'mincount': self.mincount}\n",
        "        with open(path, 'w') as file:\n",
        "          file.write(str(params))\n",
        "\n",
        "    @staticmethod\n",
        "    def load(path):\n",
        "        with open(path) as file:\n",
        "          d = eval(file.read())\n",
        "          return Tokenizer(params=d)\n"
      ],
      "execution_count": null,
      "outputs": []
    },
    {
      "cell_type": "code",
      "metadata": {
        "id": "hu8hx5eTcjnz",
        "colab_type": "code",
        "colab": {}
      },
      "source": [
        "tok = Tokenizer(train, maxlen=512, mincount=3)"
      ],
      "execution_count": null,
      "outputs": []
    },
    {
      "cell_type": "code",
      "metadata": {
        "id": "S-eqGcIOcjn2",
        "colab_type": "code",
        "colab": {}
      },
      "source": [
        "train_tok = tok.tokenize(train)\n",
        "val_tok = tok.tokenize(val)\n",
        "test_tok = tok.tokenize(test)\n",
        "\n",
        "tok.save('models/tokenizer.tok')"
      ],
      "execution_count": null,
      "outputs": []
    },
    {
      "cell_type": "code",
      "metadata": {
        "id": "cz4A08Lecjn8",
        "colab_type": "code",
        "colab": {}
      },
      "source": [
        "import torch\n",
        "from torch import nn\n",
        "\n",
        "class SimpleModel(nn.Module):\n",
        "    def __init__(self, num_tokens, emb_size=16, hid_size=64):\n",
        "        super(self.__class__, self).__init__()\n",
        "        self.emb = nn.Embedding(num_tokens, emb_size)\n",
        "        self.dropout = nn.Dropout(p=0.5)\n",
        "        self.lstm = nn.LSTM(emb_size, hid_size, batch_first=True, bidirectional=True)\n",
        "        self.fc = nn.Linear(2 * hid_size, 1)\n",
        "        \n",
        "    def forward(self, x):\n",
        "        x = x.type(torch.LongTensor).to(device)\n",
        "        emb = self.dropout(self.emb(x))\n",
        "        h, _ = self.lstm(emb)\n",
        "        estimate = self.fc(h[:, -1, :])\n",
        "        return torch.flatten(estimate)"
      ],
      "execution_count": null,
      "outputs": []
    },
    {
      "cell_type": "code",
      "metadata": {
        "id": "6-ErWUHCcjn_",
        "colab_type": "code",
        "colab": {}
      },
      "source": [
        "from torch.utils.data import Dataset, DataLoader\n",
        "\n",
        "class TextDataset(Dataset):\n",
        "    def __init__(self, data, y):\n",
        "        self.data = data\n",
        "        self.y = y\n",
        "    def __len__(self):\n",
        "        return len(self.data)\n",
        "    def __getitem__(self, idx):\n",
        "        return self.data[idx], self.y[idx]"
      ],
      "execution_count": null,
      "outputs": []
    },
    {
      "cell_type": "code",
      "metadata": {
        "id": "o_dwwU8EcjoC",
        "colab_type": "code",
        "colab": {}
      },
      "source": [
        "train_dset = TextDataset(train_tok, y_train)\n",
        "val_dset = TextDataset(val_tok, y_val)\n",
        "test_dset = TextDataset(test_tok, y_test)"
      ],
      "execution_count": null,
      "outputs": []
    },
    {
      "cell_type": "code",
      "metadata": {
        "id": "hmsHXM1vcjoF",
        "colab_type": "code",
        "colab": {}
      },
      "source": [
        "train_loader = DataLoader(train_dset, batch_size=16)\n",
        "val_loader = DataLoader(val_dset, batch_size=16)\n",
        "test_loader = DataLoader(test_dset, batch_size=16)\n",
        "\n",
        "device = torch.device(\"cuda:0\")"
      ],
      "execution_count": null,
      "outputs": []
    },
    {
      "cell_type": "code",
      "metadata": {
        "id": "VEmA4ddpcjoJ",
        "colab_type": "code",
        "colab": {}
      },
      "source": [
        "def compute_quality(model, loader, classification=False):\n",
        "    model.eval()\n",
        "    \n",
        "    loss_acum = 0.\n",
        "    correct = total = correct_class = 0\n",
        "    \n",
        "    with torch.no_grad():\n",
        "        for i_step, (x, y) in enumerate(loader):\n",
        "            x_gpu = x.to(device)\n",
        "            y_gpu = y.type(torch.FloatTensor).to(device)\n",
        "\n",
        "            pred = model(x_gpu)\n",
        "\n",
        "            if classification:\n",
        "                y_gpu = (y > 5).type(torch.FloatTensor).to(device)\n",
        "            else:\n",
        "                y_add = (y > 5).type(torch.IntTensor).to(device)\n",
        "                pred_class = (pred > 5).type(torch.IntTensor).to(device)\n",
        "                correct_class += torch.sum((pred_class == y_add))\n",
        "\n",
        "            loss_val = loss(pred, y_gpu)\n",
        "            loss_acum += loss_val\n",
        "            \n",
        "            pred_rounded = torch.round(pred)\n",
        "            correct += torch.sum(pred_rounded == y_gpu)\n",
        "            total += y.shape[0]\n",
        "            del x_gpu, y_gpu\n",
        "        \n",
        "    return loss_acum / (i_step + 1), float(correct) / total, float(correct_class) / total\n",
        "\n",
        "def train_model(model, train_loader, val_loader, epochs, optimizer, loss, plato_scheduler=None, \n",
        "                scheduler=None, classification=False):\n",
        "    loss_history = []\n",
        "    acc_history = []\n",
        "    bacc_history = []\n",
        "    \n",
        "    for epoch in range(epochs):\n",
        "        model.train()\n",
        "        \n",
        "        loss_acum = 0.\n",
        "        correct = total = correct_class = 0\n",
        "        \n",
        "        for i_step, (x, y) in enumerate(train_loader):\n",
        "            x_gpu = x.to(device)\n",
        "            y_gpu = y.type(torch.FloatTensor).to(device)\n",
        "\n",
        "            pred = model(x_gpu)\n",
        "\n",
        "            if classification:\n",
        "                y_gpu = (y > 5).type(torch.FloatTensor).to(device)\n",
        "            else:\n",
        "                y_add = (y > 5).type(torch.IntTensor).to(device)\n",
        "                pred_class = (pred > 5).type(torch.IntTensor).to(device)\n",
        "                correct_class += torch.sum((pred_class == y_add))\n",
        "\n",
        "\n",
        "            loss_val = loss(pred, y_gpu)\n",
        "            loss_acum += loss_val\n",
        "            \n",
        "            optimizer.zero_grad()\n",
        "            loss_val.backward()\n",
        "            optimizer.step()\n",
        "            \n",
        "            pred_rounded = torch.round(pred)\n",
        "            correct += torch.sum(pred_rounded == y_gpu)\n",
        "            total += y.shape[0]\n",
        "            del x_gpu, y_gpu\n",
        "            \n",
        "        train_acc = float(correct) / total\n",
        "        if not classification:\n",
        "          train_bacc = float(correct_class) / total\n",
        "        train_loss = loss_acum / (i_step + 1)\n",
        "        \n",
        "        val_loss, val_acc, val_bacc = compute_quality(model, val_loader, classification=classification)\n",
        "        loss_history.append(val_loss)\n",
        "        acc_history.append(val_acc)\n",
        "        if not classification:\n",
        "            bacc_history.append(val_bacc)\n",
        "\n",
        "        if plato_scheduler != None:\n",
        "            scheduler.step(val_acc)\n",
        "        if scheduler != None:\n",
        "            scheduler.step()\n",
        "        \n",
        "        if classification:\n",
        "            print(f'Epoch {epoch}\\nTrain loss: {train_loss}\\nTrain accuracy: {train_acc}')\n",
        "            print(f'Val loss: {val_loss}\\nVal accuracy: {val_acc}')\n",
        "        else:\n",
        "            print(f'Epoch {epoch}\\nTrain loss: {train_loss}\\nTrain accuracy: {train_acc}\\nTrain binary accuracy: {train_bacc}')\n",
        "            print(f'Val loss: {val_loss}\\nVal accuracy: {val_acc}\\nVal binary accuracy: {val_bacc}')\n",
        "    return loss_history, acc_history, bacc_history"
      ],
      "execution_count": null,
      "outputs": []
    },
    {
      "cell_type": "code",
      "metadata": {
        "id": "1dtrl2Yc58wa",
        "colab_type": "code",
        "colab": {
          "base_uri": "https://localhost:8080/",
          "height": 1000
        },
        "outputId": "ccd18448-7ec3-47c7-8493-ed2fa00646d7"
      },
      "source": [
        "model = nn.Sequential(\n",
        "    SimpleModel(tok.num_tokens, 16, 32),\n",
        "    nn.Sigmoid()\n",
        ")\n",
        "\n",
        "model.to(device)\n",
        "loss = torch.nn.BCELoss()\n",
        "optimizer = torch.optim.Adam(model.parameters(), lr=1e-3)\n",
        "scheduler1 = torch.optim.lr_scheduler.ReduceLROnPlateau(optimizer, factor=0.1, mode='max')\n",
        "scheduler2 = torch.optim.lr_scheduler.StepLR(optimizer, 2, 0.1)\n",
        "\n",
        "loss_hist, acc_hist, _ = train_model(model, train_loader, val_loader, 15, optimizer, loss, \n",
        "                                   classification=True, plato_scheduler=scheduler1, scheduler=scheduler2)"
      ],
      "execution_count": null,
      "outputs": [
        {
          "output_type": "stream",
          "text": [
            "/usr/local/lib/python3.6/dist-packages/torch/optim/lr_scheduler.py:143: UserWarning: The epoch parameter in `scheduler.step()` was not necessary and is being deprecated where possible. Please use `scheduler.step()` to step the scheduler. During the deprecation, if epoch is different from None, the closed form is used instead of the new chainable form, where available. Please open an issue if you are unable to replicate your use case: https://github.com/pytorch/pytorch/issues/new/choose.\n",
            "  warnings.warn(EPOCH_DEPRECATION_WARNING, UserWarning)\n"
          ],
          "name": "stderr"
        },
        {
          "output_type": "stream",
          "text": [
            "Epoch 0\n",
            "Train loss: 0.6854073405265808\n",
            "Train accuracy: 0.54095\n",
            "Val loss: 0.6714863181114197\n",
            "Val accuracy: 0.576\n",
            "Epoch 1\n",
            "Train loss: 0.6433324217796326\n",
            "Train accuracy: 0.6291\n",
            "Val loss: 0.5599139332771301\n",
            "Val accuracy: 0.7224\n",
            "Epoch 2\n",
            "Train loss: 0.5978174805641174\n",
            "Train accuracy: 0.6841\n",
            "Val loss: 0.7094461917877197\n",
            "Val accuracy: 0.605\n",
            "Epoch 3\n",
            "Train loss: 0.5873492956161499\n",
            "Train accuracy: 0.68585\n",
            "Val loss: 0.5772808790206909\n",
            "Val accuracy: 0.7316\n",
            "Epoch 4\n",
            "Train loss: 0.5184518694877625\n",
            "Train accuracy: 0.7459\n",
            "Val loss: 0.48493483662605286\n",
            "Val accuracy: 0.7796\n",
            "Epoch 5\n",
            "Train loss: 0.49291589856147766\n",
            "Train accuracy: 0.7665\n",
            "Val loss: 0.4853805601596832\n",
            "Val accuracy: 0.7912\n",
            "Epoch 6\n",
            "Train loss: 0.44871288537979126\n",
            "Train accuracy: 0.79705\n",
            "Val loss: 0.5286132097244263\n",
            "Val accuracy: 0.788\n",
            "Epoch 7\n",
            "Train loss: 0.4285208284854889\n",
            "Train accuracy: 0.8104\n",
            "Val loss: 0.4969332814216614\n",
            "Val accuracy: 0.7792\n",
            "Epoch 8\n",
            "Train loss: 0.4101405739784241\n",
            "Train accuracy: 0.8217\n",
            "Val loss: 0.4746580719947815\n",
            "Val accuracy: 0.8016\n",
            "Epoch 9\n",
            "Train loss: 0.4324578046798706\n",
            "Train accuracy: 0.8101\n",
            "Val loss: 0.421906977891922\n",
            "Val accuracy: 0.8296\n",
            "Epoch 10\n",
            "Train loss: 0.3466329872608185\n",
            "Train accuracy: 0.8565\n",
            "Val loss: 0.36617380380630493\n",
            "Val accuracy: 0.851\n",
            "Epoch 11\n",
            "Train loss: 0.3162657916545868\n",
            "Train accuracy: 0.86685\n",
            "Val loss: 0.3408445417881012\n",
            "Val accuracy: 0.8654\n",
            "Epoch 12\n",
            "Train loss: 0.2860111892223358\n",
            "Train accuracy: 0.88415\n",
            "Val loss: 0.36875805258750916\n",
            "Val accuracy: 0.8594\n",
            "Epoch 13\n",
            "Train loss: 0.2645188271999359\n",
            "Train accuracy: 0.89175\n",
            "Val loss: 0.3106272220611572\n",
            "Val accuracy: 0.8786\n",
            "Epoch 14\n",
            "Train loss: 0.24720758199691772\n",
            "Train accuracy: 0.9015\n",
            "Val loss: 0.30367445945739746\n",
            "Val accuracy: 0.88\n"
          ],
          "name": "stdout"
        }
      ]
    },
    {
      "cell_type": "code",
      "metadata": {
        "id": "doa7FiVDL79r",
        "colab_type": "code",
        "colab": {
          "base_uri": "https://localhost:8080/",
          "height": 283
        },
        "outputId": "83a66a13-c77d-4d4e-c426-6d41415e5fa8"
      },
      "source": [
        "import matplotlib.pyplot as plt\n",
        "plt.plot(range(15), loss_hist)\n",
        "plt.plot(range(15), acc_hist)"
      ],
      "execution_count": null,
      "outputs": [
        {
          "output_type": "execute_result",
          "data": {
            "text/plain": [
              "[<matplotlib.lines.Line2D at 0x7fd044dd3ac8>]"
            ]
          },
          "metadata": {
            "tags": []
          },
          "execution_count": 15
        },
        {
          "output_type": "display_data",
          "data": {
            "image/png": "[encoded data removed]",
            "text/plain": [
              "<Figure size 432x288 with 1 Axes>"
            ]
          },
          "metadata": {
            "tags": [],
            "needs_background": "light"
          }
        }
      ]
    },
    {
      "cell_type": "code",
      "metadata": {
        "id": "2dMkrCb_JDgE",
        "colab_type": "code",
        "colab": {}
      },
      "source": [
        "torch.save(model.state_dict(), PATH + 'models/classification.pt')"
      ],
      "execution_count": null,
      "outputs": []
    },
    {
      "cell_type": "code",
      "metadata": {
        "id": "F3hjKjHvSneK",
        "colab_type": "code",
        "colab": {
          "base_uri": "https://localhost:8080/",
          "height": 34
        },
        "outputId": "71029e0e-2969-4226-e6ee-403a33b9b5d6"
      },
      "source": [
        "model = nn.Sequential(\n",
        "    SimpleModel(tok.num_tokens, 16, 32),\n",
        "    nn.Sigmoid()\n",
        ")\n",
        "\n",
        "model.load_state_dict(torch.load('models/classification.pt'))"
      ],
      "execution_count": null,
      "outputs": [
        {
          "output_type": "execute_result",
          "data": {
            "text/plain": [
              "<All keys matched successfully>"
            ]
          },
          "metadata": {
            "tags": []
          },
          "execution_count": 21
        }
      ]
    },
    {
      "cell_type": "code",
      "metadata": {
        "id": "01RYzyRbcjoM",
        "colab_type": "code",
        "colab": {
          "base_uri": "https://localhost:8080/",
          "height": 1000
        },
        "outputId": "2c7fe481-5511-49bf-ece2-0a7b30fd0d27"
      },
      "source": [
        "reg_model = model[0].to(device)\n",
        "loss = torch.nn.MSELoss()\n",
        "optimizer = torch.optim.Adam(model.parameters(), lr=1e-3)\n",
        "scheduler1 = torch.optim.lr_scheduler.ReduceLROnPlateau(optimizer, factor=0.1, mode='max')\n",
        "scheduler2 = torch.optim.lr_scheduler.StepLR(optimizer, 2, 0.1)\n",
        "\n",
        "val_loss, val_acc, val_bacc = train_model(reg_model, train_loader, val_loader, 10, \n",
        "                                          optimizer, loss, scheduler=scheduler2, plato_scheduler=scheduler1)"
      ],
      "execution_count": null,
      "outputs": [
        {
          "output_type": "stream",
          "text": [
            "/usr/local/lib/python3.6/dist-packages/torch/optim/lr_scheduler.py:143: UserWarning: The epoch parameter in `scheduler.step()` was not necessary and is being deprecated where possible. Please use `scheduler.step()` to step the scheduler. During the deprecation, if epoch is different from None, the closed form is used instead of the new chainable form, where available. Please open an issue if you are unable to replicate your use case: https://github.com/pytorch/pytorch/issues/new/choose.\n",
            "  warnings.warn(EPOCH_DEPRECATION_WARNING, UserWarning)\n"
          ],
          "name": "stderr"
        },
        {
          "output_type": "stream",
          "text": [
            "Epoch 0\n",
            "Train loss: 4.710617542266846\n",
            "Train accuracy: 0.1838\n",
            "Train binary accuracy: 0.8838\n",
            "Val loss: 5.3728861808776855\n",
            "Val accuracy: 0.1668\n",
            "Val binary accuracy: 0.85\n",
            "Epoch 1\n",
            "Train loss: 3.688176155090332\n",
            "Train accuracy: 0.1897\n",
            "Train binary accuracy: 0.90475\n",
            "Val loss: 5.049951553344727\n",
            "Val accuracy: 0.1652\n",
            "Val binary accuracy: 0.8574\n",
            "Epoch 2\n",
            "Train loss: 3.3721394538879395\n",
            "Train accuracy: 0.197\n",
            "Train binary accuracy: 0.91485\n",
            "Val loss: 5.178640365600586\n",
            "Val accuracy: 0.1666\n",
            "Val binary accuracy: 0.8514\n",
            "Epoch 3\n",
            "Train loss: 3.2461373805999756\n",
            "Train accuracy: 0.19985\n",
            "Train binary accuracy: 0.9178\n",
            "Val loss: 4.9475836753845215\n",
            "Val accuracy: 0.1784\n",
            "Val binary accuracy: 0.851\n",
            "Epoch 4\n",
            "Train loss: 3.162492036819458\n",
            "Train accuracy: 0.2044\n",
            "Train binary accuracy: 0.9206\n",
            "Val loss: 4.871768951416016\n",
            "Val accuracy: 0.1942\n",
            "Val binary accuracy: 0.866\n",
            "Epoch 5\n",
            "Train loss: 2.9633326530456543\n",
            "Train accuracy: 0.2123\n",
            "Train binary accuracy: 0.92475\n",
            "Val loss: 4.485567569732666\n",
            "Val accuracy: 0.2066\n",
            "Val binary accuracy: 0.8764\n",
            "Epoch 6\n",
            "Train loss: 2.8267781734466553\n",
            "Train accuracy: 0.2156\n",
            "Train binary accuracy: 0.93155\n",
            "Val loss: 5.013388156890869\n",
            "Val accuracy: 0.1958\n",
            "Val binary accuracy: 0.8632\n",
            "Epoch 7\n",
            "Train loss: 2.7744808197021484\n",
            "Train accuracy: 0.2143\n",
            "Train binary accuracy: 0.9302\n",
            "Val loss: 4.7957611083984375\n",
            "Val accuracy: 0.1954\n",
            "Val binary accuracy: 0.8626\n",
            "Epoch 8\n",
            "Train loss: 2.5755844116210938\n",
            "Train accuracy: 0.22195\n",
            "Train binary accuracy: 0.9379\n",
            "Val loss: 4.604513645172119\n",
            "Val accuracy: 0.2106\n",
            "Val binary accuracy: 0.8744\n",
            "Epoch 9\n",
            "Train loss: 2.4899754524230957\n",
            "Train accuracy: 0.22245\n",
            "Train binary accuracy: 0.93925\n",
            "Val loss: 4.581084728240967\n",
            "Val accuracy: 0.2168\n",
            "Val binary accuracy: 0.8718\n"
          ],
          "name": "stdout"
        }
      ]
    },
    {
      "cell_type": "code",
      "metadata": {
        "id": "UvCExHDOEXHA",
        "colab_type": "code",
        "colab": {
          "base_uri": "https://localhost:8080/",
          "height": 281
        },
        "outputId": "4bcb4085-c5b3-4fb9-fe05-f42f5cce22b4"
      },
      "source": [
        "plt.plot(acc_hist + val_bacc)"
      ],
      "execution_count": null,
      "outputs": [
        {
          "output_type": "execute_result",
          "data": {
            "text/plain": [
              "[<matplotlib.lines.Line2D at 0x7fd0068bb048>]"
            ]
          },
          "metadata": {
            "tags": []
          },
          "execution_count": 23
        },
        {
          "output_type": "display_data",
          "data": {
            "image/png": "[encoded data removed]",
            "text/plain": [
              "<Figure size 432x288 with 1 Axes>"
            ]
          },
          "metadata": {
            "tags": [],
            "needs_background": "light"
          }
        }
      ]
    },
    {
      "cell_type": "code",
      "metadata": {
        "id": "-RTuP9sOSTfn",
        "colab_type": "code",
        "colab": {}
      },
      "source": [
        "torch.save(reg_model.state_dict(), 'models/regression.pt')"
      ],
      "execution_count": null,
      "outputs": []
    },
    {
      "cell_type": "code",
      "metadata": {
        "id": "G2e1nfFSamKW",
        "colab_type": "code",
        "colab": {}
      },
      "source": [
        "from google.colab import drive\n",
        "drive.mount('/content/drive')"
      ],
      "execution_count": null,
      "outputs": []
    },
    {
      "cell_type": "code",
      "metadata": {
        "id": "qTl9P1tCSZ-a",
        "colab_type": "code",
        "colab": {}
      },
      "source": [
        "loss_val, acc, bacc = compute_quality(reg_model, test_loader, False)"
      ],
      "execution_count": null,
      "outputs": []
    },
    {
      "cell_type": "code",
      "metadata": {
        "id": "AXpOnPjMYdlL",
        "colab_type": "code",
        "colab": {
          "base_uri": "https://localhost:8080/",
          "height": 34
        },
        "outputId": "0c9713a4-2b47-4206-fa8d-7d4bb5d45207"
      },
      "source": [
        "print(loss_val, acc, bacc)"
      ],
      "execution_count": null,
      "outputs": [
        {
          "output_type": "stream",
          "text": [
            "tensor(4.7000, device='cuda:0') 0.21756 0.86096\n"
          ],
          "name": "stdout"
        }
      ]
    },
    {
      "cell_type": "code",
      "metadata": {
        "id": "9YMTSOila3tA",
        "colab_type": "code",
        "colab": {
          "base_uri": "https://localhost:8080/",
          "height": 415
        },
        "outputId": "762ef90d-b2cc-4df6-e969-4146b7eafb8d"
      },
      "source": [
        "bacc = acc_hist + val_bacc\n",
        "\n",
        "import seaborn as sns\n",
        "\n",
        "plt.figure(figsize=(10, 6))\n",
        "plt.title('Точность бинарной классификации', {'fontsize': 20})\n",
        "plt.xlabel('Accuracy', fontsize=15)\n",
        "plt.ylabel('Epoch', fontsize=15)\n",
        "ax = sns.lineplot(range(25), bacc)\n",
        "\n",
        "ax.axvline(x=15, color='red', linestyle='--');"
      ],
      "execution_count": null,
      "outputs": [
        {
          "output_type": "display_data",
          "data": {
            "image/png": "[encoded data removed]",
            "text/plain": [
              "<Figure size 720x432 with 1 Axes>"
            ]
          },
          "metadata": {
            "tags": [],
            "needs_background": "light"
          }
        }
      ]
    },
    {
      "cell_type": "code",
      "metadata": {
        "id": "djW5CQQajqbC",
        "colab_type": "code",
        "colab": {}
      },
      "source": [
        "oh = []\n",
        "for x, y in test_loader:\n",
        "    oh.append((y, reg_model(x)))"
      ],
      "execution_count": null,
      "outputs": []
    },
    {
      "cell_type": "code",
      "metadata": {
        "id": "Dcih11_jky_e",
        "colab_type": "code",
        "colab": {
          "base_uri": "https://localhost:8080/",
          "height": 85
        },
        "outputId": "641a25a8-9fcf-45b8-e18d-782126f48670"
      },
      "source": [
        "oh[802]"
      ],
      "execution_count": null,
      "outputs": [
        {
          "output_type": "execute_result",
          "data": {
            "text/plain": [
              "(tensor([1, 2, 1, 1, 4, 2, 1, 1, 1, 4, 1, 4, 3, 3, 1, 1]),\n",
              " tensor([1.5417, 1.6641, 1.1093, 3.2495, 1.4943, 7.2473, 5.3790, 1.4320, 1.8551,\n",
              "         2.8277, 2.2517, 2.4079, 1.7589, 2.0598, 1.4981, 1.3138],\n",
              "        device='cuda:0', grad_fn=<ViewBackward>))"
            ]
          },
          "metadata": {
            "tags": []
          },
          "execution_count": 87
        }
      ]
    },
    {
      "cell_type": "code",
      "metadata": {
        "id": "F48yYnvMk3pL",
        "colab_type": "code",
        "colab": {}
      },
      "source": [
        ""
      ],
      "execution_count": null,
      "outputs": []
    }
  ]
}