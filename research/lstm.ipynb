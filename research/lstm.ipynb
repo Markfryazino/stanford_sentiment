{
 "cells": [
  {
   "cell_type": "code",
   "execution_count": 1,
   "metadata": {},
   "outputs": [],
   "source": [
    "import numpy as np\n",
    "import pandas as pd\n",
    "\n",
    "PATH = './../movie_reviews/'\n",
    "\n",
    "import os\n",
    "train_pos_names = os.listdir(PATH + 'aclImdb/train/pos')\n",
    "train_neg_names = os.listdir(PATH + 'aclImdb/train/neg')\n",
    "test_pos_names = os.listdir(PATH + 'aclImdb/test/pos')\n",
    "test_neg_names = os.listdir(PATH + 'aclImdb/test/neg')"
   ]
  },
  {
   "cell_type": "code",
   "execution_count": 2,
   "metadata": {},
   "outputs": [],
   "source": [
    "y_train = [int(s.split('_')[1].split('.')[0]) for s in train_pos_names] + \\\n",
    "          [int(s.split('_')[1].split('.')[0]) for s in train_neg_names]\n",
    "    \n",
    "y_test = [int(s.split('_')[1].split('.')[0]) for s in test_pos_names] + \\\n",
    "          [int(s.split('_')[1].split('.')[0]) for s in test_neg_names]"
   ]
  },
  {
   "cell_type": "code",
   "execution_count": 3,
   "metadata": {},
   "outputs": [],
   "source": [
    "train = []\n",
    "test = []\n",
    "\n",
    "for name in train_pos_names:\n",
    "    with open(PATH + 'aclImdb/train/pos/' + name) as f:\n",
    "        train.append(f.read())\n",
    "        \n",
    "for name in train_neg_names:\n",
    "    with open(PATH + 'aclImdb/train/neg/' + name) as f:\n",
    "        train.append(f.read())\n",
    "        \n",
    "for name in test_pos_names:\n",
    "    with open(PATH + 'aclImdb/test/pos/' + name) as f:\n",
    "        test.append(f.read())\n",
    "        \n",
    "for name in test_neg_names:\n",
    "    with open(PATH + 'aclImdb/test/neg/' + name) as f:\n",
    "        test.append(f.read())"
   ]
  },
  {
   "cell_type": "code",
   "execution_count": 4,
   "metadata": {},
   "outputs": [],
   "source": [
    "from sklearn.model_selection import train_test_split\n",
    "\n",
    "train, val, y_train, y_val = train_test_split(train, y_train, shuffle=True, test_size=0.2)"
   ]
  },
  {
   "cell_type": "code",
   "execution_count": 5,
   "metadata": {},
   "outputs": [],
   "source": [
    "import re\n",
    "from tensorflow.keras.preprocessing.sequence import pad_sequences\n",
    "\n",
    "class Tokenizer:\n",
    "    def __init__(self, data, maxlen=1024):\n",
    "        self.maxlen = maxlen\n",
    "        text = ' '.join(data).lower()\n",
    "        text = re.sub(r'[^\\w\\s]','',text)\n",
    "        words = set(text.split())\n",
    "        self.num_tokens = len(words) + 4\n",
    "        self.w2i = {'<unk>': 0, '<BOS>': 1, '<EOS>': 2, '<pad>': 3}\n",
    "        self.i2w = ['<unk', '<BOS>', '<EOS>', '<pad>']\n",
    "        for w in words:\n",
    "            self.w2i[w] = len(self.i2w)\n",
    "            self.i2w.append(w)\n",
    "    \n",
    "    def tokenize(self, data):\n",
    "        output = []\n",
    "        for sent in data:\n",
    "            text = re.sub(r'[^\\w\\s]','',sent.lower())\n",
    "            output.append([1])\n",
    "            for w in text.split():\n",
    "                if w in self.w2i:\n",
    "                    output[-1].append(self.w2i[w])\n",
    "                else:\n",
    "                    output[-1].append(0)\n",
    "            output[-1].append(2)\n",
    "        return pad_sequences(output, maxlen=self.maxlen, value=3)"
   ]
  },
  {
   "cell_type": "code",
   "execution_count": 6,
   "metadata": {},
   "outputs": [],
   "source": [
    "tok = Tokenizer(train, maxlen=32)"
   ]
  },
  {
   "cell_type": "code",
   "execution_count": 7,
   "metadata": {},
   "outputs": [],
   "source": [
    "train_tok = tok.tokenize(train)\n",
    "val_tok = tok.tokenize(val)\n",
    "test_tok = tok.tokenize(test)"
   ]
  },
  {
   "cell_type": "code",
   "execution_count": 8,
   "metadata": {},
   "outputs": [],
   "source": [
    "from torch import nn"
   ]
  },
  {
   "cell_type": "code",
   "execution_count": 24,
   "metadata": {},
   "outputs": [],
   "source": [
    "import torch\n",
    "\n",
    "class SimpleModel(nn.Module):\n",
    "    def __init__(self, num_tokens, emb_size=16, hid_size=64):\n",
    "        super(self.__class__, self).__init__()\n",
    "        self.emb = nn.Embedding(num_tokens, emb_size)\n",
    "        self.lstm = nn.LSTM(emb_size, hid_size, batch_first=True, bidirectional=True)\n",
    "        self.fc = nn.Linear(2 * hid_size, 1)\n",
    "        \n",
    "    def forward(self, x):\n",
    "        x = x.type(torch.LongTensor)\n",
    "        emb = self.emb(x)\n",
    "        h, _ = self.lstm(emb)\n",
    "        estimate = self.fc(h[:, -1, :])\n",
    "        return torch.flatten(estimate)"
   ]
  },
  {
   "cell_type": "code",
   "execution_count": 10,
   "metadata": {},
   "outputs": [],
   "source": [
    "from torch.utils.data import Dataset, DataLoader\n",
    "\n",
    "class TextDataset(Dataset):\n",
    "    def __init__(self, data, y):\n",
    "        self.data = data\n",
    "        self.y = y\n",
    "    def __len__(self):\n",
    "        return len(self.data)\n",
    "    def __getitem__(self, idx):\n",
    "        return self.data[idx], self.y[idx]"
   ]
  },
  {
   "cell_type": "code",
   "execution_count": 12,
   "metadata": {},
   "outputs": [],
   "source": [
    "train_dset = TextDataset(train_tok, y_train)\n",
    "val_dset = TextDataset(val_tok, y_val)\n",
    "test_dset = TextDataset(test_tok, y_test)"
   ]
  },
  {
   "cell_type": "code",
   "execution_count": 13,
   "metadata": {},
   "outputs": [],
   "source": [
    "train_loader = DataLoader(train_dset, batch_size=16)\n",
    "val_loader = DataLoader(val_dset, batch_size=16)\n",
    "test_loader = DataLoader(test_dset, batch_size=16)"
   ]
  },
  {
   "cell_type": "code",
   "execution_count": 25,
   "metadata": {},
   "outputs": [],
   "source": [
    "def compute_quality(model, loader):\n",
    "    model.eval()\n",
    "    \n",
    "    loss_acum = 0.\n",
    "    correct = total = 0\n",
    "    \n",
    "    for i_step, (x, y) in enumerate(loader):\n",
    "        pred = model(x)\n",
    "        loss_val = loss(pred, y)\n",
    "        loss_acum += loss_val\n",
    "        \n",
    "        pred_rounded = torch.round(pred)\n",
    "        correct += torch.sum(pred_rounded == y)\n",
    "        total += y.shape[0]\n",
    "        \n",
    "    return loss_acum / (i_step + 1), float(correct) / total\n",
    "\n",
    "def train_model(model, train_loader, val_loader, epochs, optimizer, loss, scheduler=None):\n",
    "    loss_history = []\n",
    "    acc_history = []\n",
    "    \n",
    "    for epoch in range(epochs):\n",
    "        model.train()\n",
    "        \n",
    "        loss_acum = 0.\n",
    "        correct = total = 0\n",
    "        \n",
    "        for i_step, (x, y) in enumerate(train_loader):\n",
    "            pred = model(x)\n",
    "            loss_val = loss(pred, y.type(torch.FloatTensor))\n",
    "            loss_acum += loss_val\n",
    "            \n",
    "            optimizer.zero_grad()\n",
    "            loss_val.backward()\n",
    "            optimizer.step()\n",
    "            \n",
    "            pred_rounded = torch.round(pred)\n",
    "            correct += torch.sum(pred_rounded == y)\n",
    "            total += y.shape[0]\n",
    "        \n",
    "        if scheduler != None:\n",
    "            scheduler.step()\n",
    "            \n",
    "        train_acc = float(correct) / total\n",
    "        train_loss = loss_acum / (i_step + 1)\n",
    "        \n",
    "        val_loss, val_acc = compute_quality(model, val_loader)\n",
    "        loss_history.append(val_loss)\n",
    "        acc_history.append(val_acc)\n",
    "        \n",
    "        print(f'Epoch {epoch}\\nTrain loss: {train_loss}\\nTrain accuracy: {train_acc}')\n",
    "        print(f'Val loss: {val_loss}\\nVal accuracy: {val_acc}')\n",
    "    return loss_history, acc_history"
   ]
  },
  {
   "cell_type": "code",
   "execution_count": 26,
   "metadata": {},
   "outputs": [
    {
     "name": "stdout",
     "output_type": "stream",
     "text": [
      "Epoch 0\n",
      "Train loss: 16.60061264038086\n",
      "Train accuracy: 0.0418\n",
      "Val loss: 12.0274019241333\n",
      "Val accuracy: 0.0\n",
      "Epoch 1\n",
      "Train loss: 11.989115715026855\n",
      "Train accuracy: 0.00015\n",
      "Val loss: 11.874347686767578\n",
      "Val accuracy: 0.0056\n",
      "Epoch 2\n",
      "Train loss: 11.154111862182617\n",
      "Train accuracy: 0.022\n",
      "Val loss: 10.992056846618652\n",
      "Val accuracy: 0.0386\n",
      "Epoch 3\n",
      "Train loss: 10.042634010314941\n",
      "Train accuracy: 0.0832\n",
      "Val loss: 10.533951759338379\n",
      "Val accuracy: 0.0846\n",
      "Epoch 4\n",
      "Train loss: 9.219391822814941\n",
      "Train accuracy: 0.10255\n",
      "Val loss: 10.191737174987793\n",
      "Val accuracy: 0.1022\n"
     ]
    }
   ],
   "source": [
    "model = SimpleModel(tok.num_tokens, 2, 4)\n",
    "loss = torch.nn.MSELoss()\n",
    "optimizer = torch.optim.Adam(model.parameters())\n",
    "\n",
    "train_hist, val_hist = train_model(model, train_loader, val_loader, 5, optimizer, loss)"
   ]
  }
 ],
 "metadata": {
  "kernelspec": {
   "display_name": "Python 3",
   "language": "python",
   "name": "python3"
  },
  "language_info": {
   "codemirror_mode": {
    "name": "ipython",
    "version": 3
   },
   "file_extension": ".py",
   "mimetype": "text/x-python",
   "name": "python",
   "nbconvert_exporter": "python",
   "pygments_lexer": "ipython3",
   "version": "3.7.3"
  }
 },
 "nbformat": 4,
 "nbformat_minor": 2
}
